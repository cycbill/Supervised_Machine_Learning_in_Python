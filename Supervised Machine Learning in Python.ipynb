{
 "cells": [
  {
   "cell_type": "markdown",
   "metadata": {
    "collapsed": true
   },
   "source": [
    "# Chapter 2 - K-Nearest Neighbor"
   ]
  },
  {
   "cell_type": "markdown",
   "metadata": {},
   "source": [
    "## 1. K-nearest Neighbor Concepts"
   ]
  },
  {
   "cell_type": "markdown",
   "metadata": {},
   "source": [
    "__K-Nearest Neighbors__\n",
    "\n",
    "* Basic premise: To make a prediction, use closest known data points.\n",
    "\n",
    "* K=3 --> 3-nearest neighbor --> pick green\n",
    "\n",
    "* K=5 --> 5-nearest neighbor --> pick red\n",
    "\n",
    "<img src=\"Nearest_Points.PNG\" alt=\"Nearest Points\" style=\"width: 300px;\"/>"
   ]
  },
  {
   "cell_type": "markdown",
   "metadata": {},
   "source": [
    "* Idea is simple\n",
    "\n",
    "* Implementation can be tricky\n",
    "\n",
    "* 1-nearest neighbor is simple:\n",
    "\n",
    "code\n",
    "\n",
    "    def predict(x0):\n",
    "        closest_distance = inf, closest_class = -1\n",
    "        for x, y in training_data:\n",
    "            d = dist(x, x0)\n",
    "            if d < closest_distance:\n",
    "                closest_distance = d, closest_class = y\n",
    "        return closest_class\n",
    "        \n",
    "* Keeping track of an arbitrary number of closest distances is not trivial\n",
    "\n",
    "* Ex. K = 3, I've stored the distance [1, 2, 3]\n",
    "\n",
    "* I see a point which is at a distance 1.5, so I know I should replace the 3\n",
    "\n",
    "* First, I already need to look through all of training_data --> O(N)\n",
    "\n",
    "* I need to look through the closest distances I've stored so far --> O(K)\n",
    "\n",
    "* Total --> O(NK)\n",
    "\n",
    "* Searching a sorted list would be O(logK), a little better"
   ]
  },
  {
   "cell_type": "markdown",
   "metadata": {},
   "source": [
    "* We need to turn the k-nearest neighbors into votes, so we need to store the class as well:\n",
    "\n",
    "* {dist1: class1, dist2: class2, ...} or [(dist1, class1), (dist2, class2), ...]\n",
    "\n",
    "* Count up the values:\n",
    "\n",
    "* {class1: number1, class2: num_class2, ...}\n",
    "\n",
    "* Pick the class that has the highest votes"
   ]
  },
  {
   "cell_type": "markdown",
   "metadata": {},
   "source": [
    "__Breaking Ties__\n",
    "\n",
    "* Just take whatever argmax(votes) gives us\n",
    "\n",
    "* Pick one at random\n",
    "\n",
    "* Weight by distance to neighbors (more difficult)\n",
    "\n",
    "Ours will look more like the first option. We will loop through the dictionary manually and choose the first max.\n",
    "\n",
    "Therefore depends on how keys of dictionaries are hashed in Python."
   ]
  },
  {
   "cell_type": "markdown",
   "metadata": {},
   "source": [
    "__How do I choose K?__\n",
    "\n",
    "* No easy answer\n",
    "\n",
    "* K is called a \"hyperparameter\"\n",
    "\n",
    "* Use cross-validaiton"
   ]
  },
  {
   "cell_type": "markdown",
   "metadata": {},
   "source": [
    "__Lazy Classifier__\n",
    "\n",
    "* KNN is an example of a lazy classifier\n",
    "\n",
    "* train(X,Y) doesn't do anything, just stores X and Y\n",
    "\n",
    "* predict(X') does all the work by looking through the stored X and Y.\n",
    "\n",
    "* So the training is instant, but the prediction will take long time."
   ]
  },
  {
   "cell_type": "markdown",
   "metadata": {},
   "source": [
    "## 6. KNN in Code with MNIST"
   ]
  },
  {
   "cell_type": "code",
   "execution_count": 1,
   "metadata": {
    "collapsed": true
   },
   "outputs": [],
   "source": [
    "import numpy as np\n",
    "\n",
    "x = np.array([1,2,3])"
   ]
  },
  {
   "cell_type": "code",
   "execution_count": 2,
   "metadata": {
    "collapsed": false
   },
   "outputs": [
    {
     "name": "stdout",
     "output_type": "stream",
     "text": [
      "[1 2 3]\n"
     ]
    }
   ],
   "source": [
    "print(x)"
   ]
  },
  {
   "cell_type": "markdown",
   "metadata": {},
   "source": [
    "## Test Latex\n",
    "\n",
    "$p(x)=\\frac{1}{\\sqrt{2\\pi\\sigma}}\\exp(\\frac{1}{2\\sigma^2})$"
   ]
  },
  {
   "cell_type": "code",
   "execution_count": null,
   "metadata": {
    "collapsed": true
   },
   "outputs": [],
   "source": []
  }
 ],
 "metadata": {
  "anaconda-cloud": {},
  "kernelspec": {
   "display_name": "Python [Root]",
   "language": "python",
   "name": "Python [Root]"
  },
  "language_info": {
   "codemirror_mode": {
    "name": "ipython",
    "version": 3
   },
   "file_extension": ".py",
   "mimetype": "text/x-python",
   "name": "python",
   "nbconvert_exporter": "python",
   "pygments_lexer": "ipython3",
   "version": "3.5.2"
  }
 },
 "nbformat": 4,
 "nbformat_minor": 0
}
